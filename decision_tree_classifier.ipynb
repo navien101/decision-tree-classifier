# %% [markdown]
# **Decision Tree** is one of the most popular algortihms of the machine learning algorithm. It is used is a tree-like model that helps people make decisions. It visually displays decisions and their potential outcomes, costs, and consequences.

# %% [markdown]
# importing necessary libraries for the creation of a decision tree.

# %%
import pandas as pd
import sklearn as skl
import matplotlib.pyplot as plt
import sklearn.datasets as datasets

# %%
#Loading the dataset. Here, iris a dataset witin sklearn has been used for creation of decision tree
iris = datasets.load_iris()

# Forming iris dataframe
df=pd.DataFrame(iris.data, columns=iris.feature_names)
print(df.head(5))

target_var=iris.target
print('\nThe target variables are: ')

print(target_var)


# %% [markdown]
# Defining the decision tree classifier using the data input from the previously created dataframe, and the target labels.

# %%
# Defining the decision tree algorithm
from sklearn.tree import DecisionTreeClassifier
dtree=DecisionTreeClassifier()
dtree.fit(df,target_var)

print('Decision Tree Classifer Creation is now complete')

# %% [markdown]
# Visualising the decision tree using the plot tree function from scikit learn

# %%
from sklearn.tree import plot_tree
from sklearn.tree import DecisionTreeClassifier

# Plot the decision tree
plt.figure(figsize=(15, 10))
plot_tree(dtree, feature_names=iris.feature_names, class_names=iris.target_names, filled=True, rounded=True)
plt.show()


